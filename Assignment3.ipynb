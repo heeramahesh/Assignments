{
  "nbformat": 4,
  "nbformat_minor": 0,
  "metadata": {
    "colab": {
      "name": "Assignment3.ipynb",
      "provenance": [],
      "collapsed_sections": []
    },
    "kernelspec": {
      "name": "python3",
      "display_name": "Python 3"
    }
  },
  "cells": [
    {
      "cell_type": "code",
      "metadata": {
        "id": "Pc1NLs9ZDS2u",
        "colab_type": "code",
        "colab": {}
      },
      "source": [
        ""
      ],
      "execution_count": 0,
      "outputs": []
    },
    {
      "cell_type": "markdown",
      "metadata": {
        "id": "cYlEb4LzDZ3B",
        "colab_type": "text"
      },
      "source": [
        "**Task 1**"
      ]
    },
    {
      "cell_type": "markdown",
      "metadata": {
        "id": "_Fk5CUhSDf0-",
        "colab_type": "text"
      },
      "source": [
        "Qst 1"
      ]
    },
    {
      "cell_type": "code",
      "metadata": {
        "id": "7iqGiF4wDiTH",
        "colab_type": "code",
        "colab": {
          "base_uri": "https://localhost:8080/",
          "height": 34
        },
        "outputId": "ffe524df-f3d5-4595-bdca-817dbd7cf44f"
      },
      "source": [
        "def  div(x,y):\n",
        "  try:\n",
        "    res=x/y\n",
        "    print(\"the result is{}\".format(res))\n",
        "  except ZeroDivisionError:\n",
        "    print(\"Divison by zero not possible\")\n",
        "div(5,0)\n",
        "\n"
      ],
      "execution_count": 1,
      "outputs": [
        {
          "output_type": "stream",
          "text": [
            "Divison by zero not possible\n"
          ],
          "name": "stdout"
        }
      ]
    },
    {
      "cell_type": "markdown",
      "metadata": {
        "id": "Zr21swlzikrE",
        "colab_type": "text"
      },
      "source": [
        "Qstn 2"
      ]
    },
    {
      "cell_type": "code",
      "metadata": {
        "id": "YZLmIjM1kUB_",
        "colab_type": "code",
        "colab": {
          "base_uri": "https://localhost:8080/",
          "height": 153
        },
        "outputId": "17d0e176-fe22-49ab-8dad-f86a5c49600e"
      },
      "source": [
        "subjects=[\"Americans\",\"Indians\"]\n",
        "verbs=[\"play\",\"watch\"]\n",
        "objects=[\"baseball\",\"cricket\"]\n",
        "a=len(subjects)\n",
        "b=len(verbs)\n",
        "c=len(objects)\n",
        "for i in range(0,a):\n",
        "  for j in range(0,b):\n",
        "    for k in range(0,c):\n",
        "      print(\"{} {} {}\".format(subjects[i],verbs[j],objects[k])) "
      ],
      "execution_count": 6,
      "outputs": [
        {
          "output_type": "stream",
          "text": [
            "Americans play baseball\n",
            "Americans play cricket\n",
            "Americans watch baseball\n",
            "Americans watch cricket\n",
            "Indians play baseball\n",
            "Indians play cricket\n",
            "Indians watch baseball\n",
            "Indians watch cricket\n"
          ],
          "name": "stdout"
        }
      ]
    },
    {
      "cell_type": "markdown",
      "metadata": {
        "id": "XFzJzz2ZnpUi",
        "colab_type": "text"
      },
      "source": [
        "Task 2"
      ]
    },
    {
      "cell_type": "markdown",
      "metadata": {
        "id": "r1dbix1znq4a",
        "colab_type": "text"
      },
      "source": [
        "Qstn 1"
      ]
    },
    {
      "cell_type": "code",
      "metadata": {
        "id": "QJOTVL6xsxp7",
        "colab_type": "code",
        "colab": {
          "base_uri": "https://localhost:8080/",
          "height": 187
        },
        "outputId": "424dfa69-068d-43ad-e474-e2debdcff671"
      },
      "source": [
        "import numpy as np \n",
        "matrix=np.array([1,2,3,4])\n",
        "matrix_size=4\n",
        "def gen_matrix(matrix,n,inc):\n",
        "  if inc is False:\n",
        "    res=np.array([a**(n-i-1) for a in matrix for i in range(n)]).reshape(matrix.size,n)\n",
        "  else:\n",
        "    res=np.array([a**i for a in matrix for i in range(n)]).reshape(matrix.size,n)\n",
        "  return res\n",
        "res=gen_matrix(matrix,matrix_size,False)\n",
        "print(\"Decreasing order:\")\n",
        "print(res)\n",
        "res=gen_matrix(matrix,matrix_size,True)\n",
        "print(\"Increasing order:\")\n",
        "print(res)"
      ],
      "execution_count": 14,
      "outputs": [
        {
          "output_type": "stream",
          "text": [
            "Decreasing order:\n",
            "[[ 1  1  1  1]\n",
            " [ 8  4  2  1]\n",
            " [27  9  3  1]\n",
            " [64 16  4  1]]\n",
            "Increasing order:\n",
            "[[ 1  1  1  1]\n",
            " [ 1  2  4  8]\n",
            " [ 1  3  9 27]\n",
            " [ 1  4 16 64]]\n"
          ],
          "name": "stdout"
        }
      ]
    }
  ]
}