{
  "nbformat": 4,
  "nbformat_minor": 0,
  "metadata": {
    "colab": {
      "name": "Untitled16.ipynb",
      "provenance": [],
      "collapsed_sections": []
    },
    "kernelspec": {
      "name": "python3",
      "display_name": "Python 3"
    }
  },
  "cells": [
    {
      "cell_type": "code",
      "metadata": {
        "id": "-Cy0-595-90n",
        "colab_type": "code",
        "colab": {
          "base_uri": "https://localhost:8080/",
          "height": 119
        },
        "outputId": "72ecfd3a-bdb3-40cf-cae5-c890bb507210"
      },
      "source": [
        "import pandas as pd\n",
        "import numpy as np\n",
        "df = pd.DataFrame({'From_To': ['LoNDon_paris', 'MAdrid_miLAN', 'londON_StockhOlm',  \n",
        "'Budapest_PaRis', 'Brussels_londOn'],  \n",
        "'FlightNumber': [10045, np.nan, 10065, np.nan, 10085],  \n",
        "'RecentDelays': [[23, 47], [], [24, 43, 87], [13], [67, 32]],  \n",
        "'Airline': ['KLM(!)', '<Air France> (12)', '(British Airways. )',  \n",
        "'12. Air France', '\"Swiss Air\"']}) \n",
        "print(df)\n"
      ],
      "execution_count": 2,
      "outputs": [
        {
          "output_type": "stream",
          "text": [
            "            From_To  FlightNumber  RecentDelays              Airline\n",
            "0      LoNDon_paris       10045.0      [23, 47]               KLM(!)\n",
            "1      MAdrid_miLAN           NaN            []    <Air France> (12)\n",
            "2  londON_StockhOlm       10065.0  [24, 43, 87]  (British Airways. )\n",
            "3    Budapest_PaRis           NaN          [13]       12. Air France\n",
            "4   Brussels_londOn       10085.0      [67, 32]          \"Swiss Air\"\n"
          ],
          "name": "stdout"
        }
      ]
    },
    {
      "cell_type": "markdown",
      "metadata": {
        "id": "bGCXCqenDPi9",
        "colab_type": "text"
      },
      "source": [
        "qstn 1"
      ]
    },
    {
      "cell_type": "code",
      "metadata": {
        "id": "JZnwiIexDf2l",
        "colab_type": "code",
        "colab": {
          "base_uri": "https://localhost:8080/",
          "height": 153
        },
        "outputId": "e2f866be-b9c0-4586-954c-816bf3f961e4"
      },
      "source": [
        "df.loc[1,'FlightNumber']=10055\n",
        "df.loc[3,'FlightNumber']=10075\n",
        "\n",
        "#converting Flight no col to int\n",
        "df['FlightNumber']=df['FlightNumber'].astype(int)\n",
        "#pd.to_numeric(df['FlightNumber'],downcast='integer')\n",
        "print(\"Data type of FlightNumber\")\n",
        "print(df['FlightNumber'].dtypes)\n",
        "print(df)"
      ],
      "execution_count": 3,
      "outputs": [
        {
          "output_type": "stream",
          "text": [
            "Data type of FlightNumber\n",
            "int64\n",
            "            From_To  FlightNumber  RecentDelays              Airline\n",
            "0      LoNDon_paris         10045      [23, 47]               KLM(!)\n",
            "1      MAdrid_miLAN         10055            []    <Air France> (12)\n",
            "2  londON_StockhOlm         10065  [24, 43, 87]  (British Airways. )\n",
            "3    Budapest_PaRis         10075          [13]       12. Air France\n",
            "4   Brussels_londOn         10085      [67, 32]          \"Swiss Air\"\n"
          ],
          "name": "stdout"
        }
      ]
    },
    {
      "cell_type": "markdown",
      "metadata": {
        "id": "BjaHhl-PSKtq",
        "colab_type": "text"
      },
      "source": [
        "Qstn 2"
      ]
    },
    {
      "cell_type": "code",
      "metadata": {
        "id": "Rb1I9XGcSYFd",
        "colab_type": "code",
        "colab": {
          "base_uri": "https://localhost:8080/",
          "height": 119
        },
        "outputId": "6407fca3-a3ec-47c2-999b-7c6bc1837130"
      },
      "source": [
        "n=len(df['From_To'])\n",
        "location=pd.DataFrame(columns=['From','To'])\n",
        "new=df['From_To'].str.split('_')\n",
        "for i in range(0,n):\n",
        "  location=location.append({'From':new[i][0],'To':new[i][1]},ignore_index='True')\n",
        "print(location) #new data frame with \"from to\" values.."
      ],
      "execution_count": 18,
      "outputs": [
        {
          "output_type": "stream",
          "text": [
            "       From         To\n",
            "0    LoNDon      paris\n",
            "1    MAdrid      miLAN\n",
            "2    londON  StockhOlm\n",
            "3  Budapest      PaRis\n",
            "4  Brussels     londOn\n"
          ],
          "name": "stdout"
        }
      ]
    },
    {
      "cell_type": "markdown",
      "metadata": {
        "id": "We93kJ8P62Nm",
        "colab_type": "text"
      },
      "source": [
        "Qstn 3"
      ]
    },
    {
      "cell_type": "code",
      "metadata": {
        "id": "zqfhzE8K65D4",
        "colab_type": "code",
        "colab": {
          "base_uri": "https://localhost:8080/",
          "height": 119
        },
        "outputId": "de5b620f-cfb8-45f2-da89-3c305e0ca5eb"
      },
      "source": [
        "location['From']=location['From'].apply(lambda x:x.capitalize())\n",
        "location['To']=location['To'].apply(lambda x:x.capitalize())\n",
        "\n",
        "print(location)  "
      ],
      "execution_count": 23,
      "outputs": [
        {
          "output_type": "stream",
          "text": [
            "       From         To\n",
            "0    London      Paris\n",
            "1    Madrid      Milan\n",
            "2    London  Stockholm\n",
            "3  Budapest      Paris\n",
            "4  Brussels     London\n"
          ],
          "name": "stdout"
        }
      ]
    },
    {
      "cell_type": "markdown",
      "metadata": {
        "id": "FIYwYBmjCDdv",
        "colab_type": "text"
      },
      "source": [
        "Qstn 4"
      ]
    },
    {
      "cell_type": "code",
      "metadata": {
        "colab_type": "code",
        "outputId": "680456b1-0a61-4f66-c2b8-5bce71d0e05a",
        "id": "qpZPoGRbFje9",
        "colab": {
          "base_uri": "https://localhost:8080/",
          "height": 119
        }
      },
      "source": [
        "df=df.drop('From_To',axis=1) # dropping from_To Column\n",
        "\n",
        "df.insert(0,'To',location['To'].values)\n",
        "df.insert(0,'From',location['From'].values) # inserting values from temp data frame to the df dataframe\n",
        "print(df) "
      ],
      "execution_count": 32,
      "outputs": [
        {
          "output_type": "stream",
          "text": [
            "       From         To  FlightNumber  RecentDelays              Airline\n",
            "0    London      Paris         10045      [23, 47]               KLM(!)\n",
            "1    Madrid      Milan         10055            []    <Air France> (12)\n",
            "2    London  Stockholm         10065  [24, 43, 87]  (British Airways. )\n",
            "3  Budapest      Paris         10075          [13]       12. Air France\n",
            "4  Brussels     London         10085      [67, 32]          \"Swiss Air\"\n"
          ],
          "name": "stdout"
        }
      ]
    },
    {
      "cell_type": "code",
      "metadata": {
        "id": "euLZ3TthIZLj",
        "colab_type": "code",
        "colab": {}
      },
      "source": [
        ""
      ],
      "execution_count": 0,
      "outputs": []
    },
    {
      "cell_type": "markdown",
      "metadata": {
        "id": "VF_Z23UiIZyD",
        "colab_type": "text"
      },
      "source": [
        "Qstn 5"
      ]
    },
    {
      "cell_type": "code",
      "metadata": {
        "id": "nY16CQseIbps",
        "colab_type": "code",
        "colab": {
          "base_uri": "https://localhost:8080/",
          "height": 119
        },
        "outputId": "bad51617-547c-479a-eca4-a1b445737ea8"
      },
      "source": [
        "delays=pd.DataFrame(df['RecentDelays'].values.tolist())\n",
        "\n",
        "delays.columns=['delay_1','delay_2','delay_3']\n",
        "print(delays)\n"
      ],
      "execution_count": 36,
      "outputs": [
        {
          "output_type": "stream",
          "text": [
            "   delay_1  delay_2  delay_3\n",
            "0     23.0     47.0      NaN\n",
            "1      NaN      NaN      NaN\n",
            "2     24.0     43.0     87.0\n",
            "3     13.0      NaN      NaN\n",
            "4     67.0     32.0      NaN\n"
          ],
          "name": "stdout"
        }
      ]
    },
    {
      "cell_type": "code",
      "metadata": {
        "id": "sjbE8LWLZ7u1",
        "colab_type": "code",
        "colab": {}
      },
      "source": [
        "df.drop(columns=['RecentDelays'],inplace=True)  #dropping of the recent delay column"
      ],
      "execution_count": 0,
      "outputs": []
    },
    {
      "cell_type": "code",
      "metadata": {
        "id": "Ah3J-_X9bG0g",
        "colab_type": "code",
        "colab": {
          "base_uri": "https://localhost:8080/",
          "height": 153
        },
        "outputId": "47460886-6b4d-4854-d9ca-b85165e9a2a0"
      },
      "source": [
        "df3=pd.concat([df,delays],axis=1)\n",
        "print(df3)\n"
      ],
      "execution_count": 39,
      "outputs": [
        {
          "output_type": "stream",
          "text": [
            "       From         To  FlightNumber  ... delay_1  delay_2  delay_3\n",
            "0    London      Paris         10045  ...    23.0     47.0      NaN\n",
            "1    Madrid      Milan         10055  ...     NaN      NaN      NaN\n",
            "2    London  Stockholm         10065  ...    24.0     43.0     87.0\n",
            "3  Budapest      Paris         10075  ...    13.0      NaN      NaN\n",
            "4  Brussels     London         10085  ...    67.0     32.0      NaN\n",
            "\n",
            "[5 rows x 7 columns]\n"
          ],
          "name": "stdout"
        }
      ]
    }
  ]
}