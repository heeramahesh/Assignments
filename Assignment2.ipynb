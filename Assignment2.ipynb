{
  "nbformat": 4,
  "nbformat_minor": 0,
  "metadata": {
    "colab": {
      "name": "Assignment2.ipynb",
      "provenance": [],
      "collapsed_sections": []
    },
    "kernelspec": {
      "name": "python3",
      "display_name": "Python 3"
    }
  },
  "cells": [
    {
      "cell_type": "code",
      "metadata": {
        "id": "HhkfXSXaYOD2",
        "colab_type": "code",
        "colab": {}
      },
      "source": [
        ""
      ],
      "execution_count": 0,
      "outputs": []
    },
    {
      "cell_type": "markdown",
      "metadata": {
        "id": "kDBZf5GXqDEa",
        "colab_type": "text"
      },
      "source": [
        ""
      ]
    },
    {
      "cell_type": "code",
      "metadata": {
        "id": "2UKGx0ZVqFSw",
        "colab_type": "code",
        "colab": {}
      },
      "source": [
        ""
      ],
      "execution_count": 0,
      "outputs": []
    },
    {
      "cell_type": "markdown",
      "metadata": {
        "id": "HmDr1bErYuYJ",
        "colab_type": "text"
      },
      "source": [
        "Task 1"
      ]
    },
    {
      "cell_type": "markdown",
      "metadata": {
        "id": "5PPZnY6WYw97",
        "colab_type": "text"
      },
      "source": [
        "Qstn 1.1"
      ]
    },
    {
      "cell_type": "code",
      "metadata": {
        "id": "0YqD8c8cYzCS",
        "colab_type": "code",
        "outputId": "27d4e727-7572-44e4-9e07-9b2bc34dbc49",
        "colab": {
          "base_uri": "https://localhost:8080/",
          "height": 34
        }
      },
      "source": [
        "\n",
        "def mult(x,y):\n",
        "  return x*y\n",
        "def myreduce(mult,l):\n",
        "  result=1\n",
        "  for i in l:\n",
        "    result=mult(result,i)\n",
        "  return result\n",
        "\n",
        "    \n",
        "x=myreduce(mult,[1,2,3,4,5])\n",
        "print(x)\n"
      ],
      "execution_count": 0,
      "outputs": [
        {
          "output_type": "stream",
          "text": [
            "120\n"
          ],
          "name": "stdout"
        }
      ]
    },
    {
      "cell_type": "markdown",
      "metadata": {
        "id": "dN9VKW9-pm_m",
        "colab_type": "text"
      },
      "source": [
        "Qstn 1.2"
      ]
    },
    {
      "cell_type": "code",
      "metadata": {
        "id": "W0Npeg4Epquy",
        "colab_type": "code",
        "outputId": "7dc1bf03-2d7c-4eb1-b487-b08440511085",
        "colab": {
          "base_uri": "https://localhost:8080/",
          "height": 68
        }
      },
      "source": [
        "def filter_num(num):\n",
        "  search=[2,4,8]\n",
        "  if(num in search):\n",
        "    return True\n",
        "  else:\n",
        "    return False\n",
        "  \n",
        "def myfilter(filter_num,numbers):\n",
        "  lis=[];\n",
        "  for i in numbers:\n",
        "    res=filter_num(i)\n",
        "    if(res==True):\n",
        "      lis.append(i)\n",
        "  return lis\n",
        "\n",
        "result=myfilter(filter_num,[1,2,3,4,5,6,7,8,9])\n",
        "\n",
        "for j in result:\n",
        "  print(j)\n",
        "\n",
        "\n",
        "\n"
      ],
      "execution_count": 0,
      "outputs": [
        {
          "output_type": "stream",
          "text": [
            "2\n",
            "4\n",
            "8\n"
          ],
          "name": "stdout"
        }
      ]
    },
    {
      "cell_type": "markdown",
      "metadata": {
        "id": "RNwetyn9qKKr",
        "colab_type": "text"
      },
      "source": [
        "Qstn 2"
      ]
    },
    {
      "cell_type": "code",
      "metadata": {
        "id": "pfWGO96XqMGb",
        "colab_type": "code",
        "outputId": "48dfcbc2-6127-4669-85da-eaef51322349",
        "colab": {
          "base_uri": "https://localhost:8080/",
          "height": 34
        }
      },
      "source": [
        "wrd=\"ACADGILD\"\n",
        "Letter=[a for a in wrd]\n",
        "print(Letter)"
      ],
      "execution_count": 0,
      "outputs": [
        {
          "output_type": "stream",
          "text": [
            "['A', 'C', 'A', 'D', 'G', 'I', 'L', 'D']\n"
          ],
          "name": "stdout"
        }
      ]
    },
    {
      "cell_type": "code",
      "metadata": {
        "id": "pIJrzW2ou7G-",
        "colab_type": "code",
        "outputId": "752a364a-61be-46f3-f4ab-f4dd7815f32c",
        "colab": {
          "base_uri": "https://localhost:8080/",
          "height": 34
        }
      },
      "source": [
        "l=['x','y','z']\n",
        "val=[a*n  for a in l for n in range(1,5)]\n",
        "print(val)"
      ],
      "execution_count": 0,
      "outputs": [
        {
          "output_type": "stream",
          "text": [
            "['x', 'xx', 'xxx', 'xxxx', 'y', 'yy', 'yyy', 'yyyy', 'z', 'zz', 'zzz', 'zzzz']\n"
          ],
          "name": "stdout"
        }
      ]
    },
    {
      "cell_type": "code",
      "metadata": {
        "id": "w5_ncsBvwPWi",
        "colab_type": "code",
        "outputId": "3fad24c0-deec-4161-e01f-7a366bcd89fe",
        "colab": {
          "base_uri": "https://localhost:8080/",
          "height": 34
        }
      },
      "source": [
        "l=['x','y','z']\n",
        "val=[a*n for n in range(1,5) for a in l ]\n",
        "print(val)"
      ],
      "execution_count": 0,
      "outputs": [
        {
          "output_type": "stream",
          "text": [
            "['x', 'y', 'z', 'xx', 'yy', 'zz', 'xxx', 'yyy', 'zzz', 'xxxx', 'yyyy', 'zzzz']\n"
          ],
          "name": "stdout"
        }
      ]
    },
    {
      "cell_type": "code",
      "metadata": {
        "id": "pBfZlVSEy5Bl",
        "colab_type": "code",
        "outputId": "51043b7e-0a6c-4cfb-8da8-3b63b12741d4",
        "colab": {
          "base_uri": "https://localhost:8080/",
          "height": 34
        }
      },
      "source": [
        "num=[2,3,4]\n",
        "l=[[item+count] for item in num for count in range(0,3)]\n",
        "print(l)"
      ],
      "execution_count": 0,
      "outputs": [
        {
          "output_type": "stream",
          "text": [
            "[[2], [3], [4], [3], [4], [5], [4], [5], [6]]\n"
          ],
          "name": "stdout"
        }
      ]
    },
    {
      "cell_type": "code",
      "metadata": {
        "id": "F_fgk5bT0sHP",
        "colab_type": "code",
        "outputId": "06588b13-6ddb-4e0a-a03c-7637f1e009e4",
        "colab": {
          "base_uri": "https://localhost:8080/",
          "height": 34
        }
      },
      "source": [
        "num=[2,3,4,5]\n",
        "result=[[item+count for item in num] for count in range(0,4)]\n",
        "print(result)"
      ],
      "execution_count": 0,
      "outputs": [
        {
          "output_type": "stream",
          "text": [
            "[[2, 3, 4, 5], [3, 4, 5, 6], [4, 5, 6, 7], [5, 6, 7, 8]]\n"
          ],
          "name": "stdout"
        }
      ]
    },
    {
      "cell_type": "code",
      "metadata": {
        "id": "Q7rava_O3FKO",
        "colab_type": "code",
        "outputId": "4d31cfbc-c89d-4691-b8e6-4e7da0e266be",
        "colab": {
          "base_uri": "https://localhost:8080/",
          "height": 34
        }
      },
      "source": [
        "l=[1,2,3]\n",
        "result=[(i,j) for j in l for i in l ]\n",
        "print(result)"
      ],
      "execution_count": 0,
      "outputs": [
        {
          "output_type": "stream",
          "text": [
            "[(1, 1), (2, 1), (3, 1), (1, 2), (2, 2), (3, 2), (1, 3), (2, 3), (3, 3)]\n"
          ],
          "name": "stdout"
        }
      ]
    },
    {
      "cell_type": "markdown",
      "metadata": {
        "id": "Tzh3Onle4lxu",
        "colab_type": "text"
      },
      "source": [
        "qstn 3"
      ]
    },
    {
      "cell_type": "code",
      "metadata": {
        "id": "ioRPqmh8BiAU",
        "colab_type": "code",
        "colab": {
          "base_uri": "https://localhost:8080/",
          "height": 153
        },
        "outputId": "40e616ec-84cc-45e6-bb02-b6c64c0fe9a3"
      },
      "source": [
        "n=int(input(\"enter the no of words:\"))\n",
        "wrds=[]\n",
        "for i in range(0,n):\n",
        "  print(\"enter  {} word\".format(i+1))\n",
        "  w=input()\n",
        "  wrds.append(w)\n",
        "def longestWord(wrds):\n",
        "  len_wrd=0\n",
        "  word=' '\n",
        "  for i in wrds:\n",
        "    if(len(i)>len_wrd):\n",
        "\n",
        "     len_wrd=len(i)\n",
        "     word=i\n",
        "  return word\n",
        "result=longestWord(wrds)\n",
        "print(\"The longest word is: {}\".format(result))\n"
      ],
      "execution_count": 3,
      "outputs": [
        {
          "output_type": "stream",
          "text": [
            "enter the no of words:3\n",
            "enter  1 word\n",
            "Heera\n",
            "enter  2 word\n",
            "Vibha\n",
            "enter  3 word\n",
            "Catherine\n",
            "The longest word is: Catherine\n"
          ],
          "name": "stdout"
        }
      ]
    },
    {
      "cell_type": "code",
      "metadata": {
        "id": "QkLCdh8l_tnj",
        "colab_type": "code",
        "colab": {}
      },
      "source": [
        ""
      ],
      "execution_count": 0,
      "outputs": []
    },
    {
      "cell_type": "markdown",
      "metadata": {
        "id": "2BwI6zXUD-a7",
        "colab_type": "text"
      },
      "source": [
        "------------------Task 2-------------"
      ]
    },
    {
      "cell_type": "markdown",
      "metadata": {
        "id": "LuY3ifOTD9cw",
        "colab_type": "text"
      },
      "source": [
        ""
      ]
    },
    {
      "cell_type": "markdown",
      "metadata": {
        "id": "Pari79D3ECGk",
        "colab_type": "text"
      },
      "source": [
        ""
      ]
    },
    {
      "cell_type": "markdown",
      "metadata": {
        "id": "4FZ9bGNaEDiU",
        "colab_type": "text"
      },
      "source": [
        "Qstn 1.2"
      ]
    },
    {
      "cell_type": "code",
      "metadata": {
        "id": "hpWOX61zEO_k",
        "colab_type": "code",
        "colab": {
          "base_uri": "https://localhost:8080/",
          "height": 170
        },
        "outputId": "e9274db5-e560-490f-c9bd-f82218b035e5"
      },
      "source": [
        "def filter_long_words(wrds,n):\n",
        "  new_wrds=[]\n",
        "  for i in wrds:\n",
        "    if(len(i)>n):\n",
        "      new_wrds.append(i)\n",
        "  return new_wrds\n",
        "a=int(input(\"enter the no of words:\"))\n",
        "wrds=[]\n",
        "for i in range(0,a):\n",
        "  print(\"enter  {} word\".format(i+1))\n",
        "  w=input()\n",
        "  wrds.append(w)\n",
        "n=int(input(\"enter the value for n(legth to be compared to) :\" ))\n",
        "new_wrds=filter_long_words(wrds,n)\n",
        "print(new_wrds)\n",
        "\n"
      ],
      "execution_count": 4,
      "outputs": [
        {
          "output_type": "stream",
          "text": [
            "enter the no of words:3\n",
            "enter  1 word\n",
            "Heera\n",
            "enter  2 word\n",
            "Mahesh\n",
            "enter  3 word\n",
            "Radhakrishnan\n",
            "enter the value for n(legth to be compared to) :5\n",
            "['Mahesh', 'Radhakrishnan']\n"
          ],
          "name": "stdout"
        }
      ]
    },
    {
      "cell_type": "markdown",
      "metadata": {
        "id": "j9BVZeKaGudG",
        "colab_type": "text"
      },
      "source": [
        "2.1"
      ]
    },
    {
      "cell_type": "code",
      "metadata": {
        "id": "lONKIYsFGxos",
        "colab_type": "code",
        "colab": {
          "base_uri": "https://localhost:8080/",
          "height": 204
        },
        "outputId": "f04bfe03-e23c-49bc-9b96-bf056eec5d6f"
      },
      "source": [
        "a=int(input(\"enter the no of words:\"))\n",
        "wrds=[]\n",
        "for i in range(0,a):\n",
        "  print(\"enter  {} word\".format(i+1))\n",
        "  w=input()\n",
        "  wrds.append(w)\n",
        "\n",
        "def Map(wrds):\n",
        "  numbers=[]\n",
        "  for i in wrds:\n",
        "    l=len(i)\n",
        "    numbers.append(l)\n",
        "  return numbers\n",
        "\n",
        "\n",
        "numbers=Map(wrds)\n",
        "\n",
        "print(\"The list of words : {}\".format(wrds))\n",
        "print(\"Mapped Integer List : {}\".format(numbers))\n"
      ],
      "execution_count": 6,
      "outputs": [
        {
          "output_type": "stream",
          "text": [
            "enter the no of words:4\n",
            "enter  1 word\n",
            "a\n",
            "enter  2 word\n",
            "wwwwwww\n",
            "enter  3 word\n",
            "tt\n",
            "enter  4 word\n",
            "uuu\n",
            "The list of words : ['a', 'wwwwwww', 'tt', 'uuu']\n",
            "Mapped Integer List : [1, 7, 2, 3]\n"
          ],
          "name": "stdout"
        }
      ]
    },
    {
      "cell_type": "markdown",
      "metadata": {
        "id": "1vhQ5iOARzVn",
        "colab_type": "text"
      },
      "source": [
        "2.2"
      ]
    },
    {
      "cell_type": "code",
      "metadata": {
        "id": "Nrc7wyV2R1eT",
        "colab_type": "code",
        "colab": {
          "base_uri": "https://localhost:8080/",
          "height": 51
        },
        "outputId": "5ff42d38-6d3d-473b-8426-a5247041aa89"
      },
      "source": [
        "char=input(\"enter character: \")\n",
        "def check_vowels(char):\n",
        "  if(char=='a' or char=='e' or char=='i' or char=='o' or char=='u'):\n",
        "    return True\n",
        "  else :\n",
        "    return False\n",
        "Result=check_vowels(char)\n",
        "print(Result)\n"
      ],
      "execution_count": 8,
      "outputs": [
        {
          "output_type": "stream",
          "text": [
            "enter character: a\n",
            "True\n"
          ],
          "name": "stdout"
        }
      ]
    },
    {
      "cell_type": "markdown",
      "metadata": {
        "id": "7phn0xtWS820",
        "colab_type": "text"
      },
      "source": [
        "1.1"
      ]
    },
    {
      "cell_type": "code",
      "metadata": {
        "id": "_0jjmQELTCPD",
        "colab_type": "code",
        "colab": {
          "base_uri": "https://localhost:8080/",
          "height": 85
        },
        "outputId": "0a6eab8a-3582-4e97-a2e7-84e205078d57"
      },
      "source": [
        "class Side:\n",
        "  def sides(self,s1,s2,s3):\n",
        "    self.a=s1\n",
        "    self.b=s2\n",
        "    self.c=s3\n",
        "class Triangle(Side):\n",
        "  def Area(a,b,c):\n",
        "    s=a+b+c/2\n",
        "    area=(s*(s-a)*(s-b)*(s-c)) ** 0.5\n",
        "    return area\n",
        "  s1=int(input(\"enter 1st side: \"))\n",
        "  s2=int(input(\"enter 2nd side: \"))\n",
        "  s3=int(input(\"enter 3rd side: \"))\n",
        "  x=Side()\n",
        "  x.sides(s1,s2,s3)\n",
        "  are=Area(x.a,x.b,x.c)\n",
        "  print(\"Area of Triangle:: {} \".format(are))"
      ],
      "execution_count": 17,
      "outputs": [
        {
          "output_type": "stream",
          "text": [
            "enter 1st side: 5\n",
            "enter 2nd side: 7\n",
            "enter 3rd side: 4\n",
            "Area of Triangle:: 93.91485505499116 \n"
          ],
          "name": "stdout"
        }
      ]
    }
  ]
}