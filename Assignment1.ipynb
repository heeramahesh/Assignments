{
  "nbformat": 4,
  "nbformat_minor": 0,
  "metadata": {
    "colab": {
      "name": "Assignment1.ipynb",
      "provenance": [],
      "collapsed_sections": []
    },
    "kernelspec": {
      "name": "python3",
      "display_name": "Python 3"
    }
  },
  "cells": [
    {
      "cell_type": "code",
      "metadata": {
        "id": "MD10DPFJS2E7",
        "colab_type": "code",
        "colab": {}
      },
      "source": [
        ""
      ],
      "execution_count": 0,
      "outputs": []
    },
    {
      "cell_type": "markdown",
      "metadata": {
        "id": "S5SNrzV426Ge",
        "colab_type": "text"
      },
      "source": [
        "**Task 1**"
      ]
    },
    {
      "cell_type": "markdown",
      "metadata": {
        "id": "Lob0DlBES9N3",
        "colab_type": "text"
      },
      "source": [
        "qstn 2"
      ]
    },
    {
      "cell_type": "code",
      "metadata": {
        "id": "CqksIGbJbNGC",
        "colab_type": "code",
        "colab": {}
      },
      "source": [
        ""
      ],
      "execution_count": 0,
      "outputs": []
    },
    {
      "cell_type": "markdown",
      "metadata": {
        "id": "IBytTKnHS7dq",
        "colab_type": "text"
      },
      "source": [
        ""
      ]
    },
    {
      "cell_type": "code",
      "metadata": {
        "id": "_z16YMles99B",
        "colab_type": "code",
        "outputId": "f00908d8-5c1b-4cfc-befd-f8fecfd75c20",
        "colab": {
          "base_uri": "https://localhost:8080/",
          "height": 54
        }
      },
      "source": [
        "\n",
        "for i in range(1999,3201):\n",
        "  if (i%7==0) and (i%5!=0):\n",
        "    print(i,end=',')"
      ],
      "execution_count": 0,
      "outputs": [
        {
          "output_type": "stream",
          "text": [
            "2002,2009,2016,2023,2037,2044,2051,2058,2072,2079,2086,2093,2107,2114,2121,2128,2142,2149,2156,2163,2177,2184,2191,2198,2212,2219,2226,2233,2247,2254,2261,2268,2282,2289,2296,2303,2317,2324,2331,2338,2352,2359,2366,2373,2387,2394,2401,2408,2422,2429,2436,2443,2457,2464,2471,2478,2492,2499,2506,2513,2527,2534,2541,2548,2562,2569,2576,2583,2597,2604,2611,2618,2632,2639,2646,2653,2667,2674,2681,2688,2702,2709,2716,2723,2737,2744,2751,2758,2772,2779,2786,2793,2807,2814,2821,2828,2842,2849,2856,2863,2877,2884,2891,2898,2912,2919,2926,2933,2947,2954,2961,2968,2982,2989,2996,3003,3017,3024,3031,3038,3052,3059,3066,3073,3087,3094,3101,3108,3122,3129,3136,3143,3157,3164,3171,3178,3192,3199,"
          ],
          "name": "stdout"
        }
      ]
    },
    {
      "cell_type": "markdown",
      "metadata": {
        "id": "4aX518m1xSwI",
        "colab_type": "text"
      },
      "source": [
        "qstn 3"
      ]
    },
    {
      "cell_type": "code",
      "metadata": {
        "id": "5sNYUwQkxXlB",
        "colab_type": "code",
        "outputId": "c7f1f879-3a3a-429c-c6c6-f72f84d45885",
        "colab": {
          "base_uri": "https://localhost:8080/",
          "height": 68
        }
      },
      "source": [
        "first_name=input(\"enter first name :\")\n",
        "last_name=input(\"enter last name :\")\n",
        "first=first_name[::-1]\n",
        "last=last_name[::-1]\n",
        "d=' '\n",
        "print('{last_name}{space}{first_name}'.format(last_name=last,space=d,first_name=first))"
      ],
      "execution_count": 0,
      "outputs": [
        {
          "output_type": "stream",
          "text": [
            "enter first name :Heera\n",
            "enter last name :Mahesh\n",
            "hsehaM areeH\n"
          ],
          "name": "stdout"
        }
      ]
    },
    {
      "cell_type": "markdown",
      "metadata": {
        "id": "alqTG6M80pIr",
        "colab_type": "text"
      },
      "source": [
        "qstn 4"
      ]
    },
    {
      "cell_type": "code",
      "metadata": {
        "id": "WXhQhWKE0tpn",
        "colab_type": "code",
        "outputId": "45ff339d-360c-4143-867c-162f65f6d9c7",
        "colab": {
          "base_uri": "https://localhost:8080/",
          "height": 34
        }
      },
      "source": [
        "d=12\n",
        "r=d/3\n",
        "vol=4/3*3.14*(r**3)\n",
        "print(f'volume of cube {vol}')"
      ],
      "execution_count": 0,
      "outputs": [
        {
          "output_type": "stream",
          "text": [
            "volume of cube 267.94666666666666\n"
          ],
          "name": "stdout"
        }
      ]
    },
    {
      "cell_type": "code",
      "metadata": {
        "id": "0cV4dGyLbQFE",
        "colab_type": "code",
        "colab": {}
      },
      "source": [
        ""
      ],
      "execution_count": 0,
      "outputs": []
    },
    {
      "cell_type": "markdown",
      "metadata": {
        "id": "OgysikuxbQ38",
        "colab_type": "text"
      },
      "source": [
        "Task 2"
      ]
    },
    {
      "cell_type": "code",
      "metadata": {
        "id": "WYgQLdL8b0Mc",
        "colab_type": "code",
        "colab": {}
      },
      "source": [
        ""
      ],
      "execution_count": 0,
      "outputs": []
    },
    {
      "cell_type": "markdown",
      "metadata": {
        "id": "7dvG6luUdLO_",
        "colab_type": "text"
      },
      "source": [
        "qstn 1"
      ]
    },
    {
      "cell_type": "code",
      "metadata": {
        "id": "ZjFk3iy9dM1B",
        "colab_type": "code",
        "outputId": "e49c32f4-7e5b-42a3-e94a-7fda5de2968a",
        "colab": {
          "base_uri": "https://localhost:8080/",
          "height": 221
        }
      },
      "source": [
        "li=[]\n",
        "limit=int(input('enter the no of values to be entered'))\n",
        "\n",
        "\n",
        "for i in range(limit):\n",
        "  li.append(input())\n",
        "print('--The values in the list are--')\n",
        "for x in range(len(li)):\n",
        "  print(li[x])\n",
        "\n"
      ],
      "execution_count": 0,
      "outputs": [
        {
          "output_type": "stream",
          "text": [
            "enter the no of values to be entered5\n",
            "10\n",
            "20\n",
            "30\n",
            "40\n",
            "50\n",
            "--The values in the list are--\n",
            "10\n",
            "20\n",
            "30\n",
            "40\n",
            "50\n"
          ],
          "name": "stdout"
        }
      ]
    },
    {
      "cell_type": "code",
      "metadata": {
        "id": "59HW0guik_4Z",
        "colab_type": "code",
        "colab": {}
      },
      "source": [
        ""
      ],
      "execution_count": 0,
      "outputs": []
    },
    {
      "cell_type": "markdown",
      "metadata": {
        "id": "K7jaMdT7lBNp",
        "colab_type": "text"
      },
      "source": [
        "qstn 2"
      ]
    },
    {
      "cell_type": "code",
      "metadata": {
        "id": "pAkzhPF5mcGV",
        "colab_type": "code",
        "outputId": "ed599d7e-e603-4c08-fae9-cafb1dbc9d8f",
        "colab": {
          "base_uri": "https://localhost:8080/",
          "height": 187
        }
      },
      "source": [
        "for i in range(0,6):\n",
        "  for x in range(int(i)):\n",
        "    print('*',end=' ')\n",
        "  print(end='\\n')\n",
        "for i in range(4,0,-1):\n",
        "  for x in range(int(i),0,-1):\n",
        "    print('*',end=' ')\n",
        "  print(end='\\n')\n"
      ],
      "execution_count": 0,
      "outputs": [
        {
          "output_type": "stream",
          "text": [
            "\n",
            "* \n",
            "* * \n",
            "* * * \n",
            "* * * * \n",
            "* * * * * \n",
            "* * * * \n",
            "* * * \n",
            "* * \n",
            "* \n"
          ],
          "name": "stdout"
        }
      ]
    },
    {
      "cell_type": "markdown",
      "metadata": {
        "id": "lubiY39u3GXS",
        "colab_type": "text"
      },
      "source": [
        "qstn 3"
      ]
    },
    {
      "cell_type": "code",
      "metadata": {
        "id": "NN9cYdhQ3IyD",
        "colab_type": "code",
        "outputId": "53c32c6b-770f-4a1e-bc48-51c7841d5aef",
        "colab": {
          "base_uri": "https://localhost:8080/",
          "height": 51
        }
      },
      "source": [
        "word=input(\"input word:\")\n",
        "reverse_wrd=word[::-1]\n",
        "print(reverse_wrd)"
      ],
      "execution_count": 0,
      "outputs": [
        {
          "output_type": "stream",
          "text": [
            "input word:Bharath\n",
            "htarahB\n"
          ],
          "name": "stdout"
        }
      ]
    },
    {
      "cell_type": "markdown",
      "metadata": {
        "id": "Baw0NSd2jNTd",
        "colab_type": "text"
      },
      "source": [
        "qstn 4"
      ]
    },
    {
      "cell_type": "code",
      "metadata": {
        "id": "lOQIkC9vjPK3",
        "colab_type": "code",
        "colab": {
          "base_uri": "https://localhost:8080/",
          "height": 34
        },
        "outputId": "910c3e54-d50e-48e1-8726-7c0e95e00f5c"
      },
      "source": [
        "string=\"WE,THE PEOPLE OF INDIA,having solemnly resolved to constitute India into a SOVEREIGN,SOCIALIST,SECULAR,DEMOCATIC REPUBLIC and to secure to all its citizens \"\n",
        "print(string.replace('SOCIALIST','! SOCIALIST'))"
      ],
      "execution_count": 11,
      "outputs": [
        {
          "output_type": "stream",
          "text": [
            "WE,THE PEOPLE OF INDIA,having solemnly resolved to constitute India into a SOVEREIGN,! SOCIALIST,SECULAR,DEMOCATIC REPUBLIC and to secure to all its citizens \n"
          ],
          "name": "stdout"
        }
      ]
    }
  ]
}