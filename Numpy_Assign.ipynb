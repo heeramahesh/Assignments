{
  "nbformat": 4,
  "nbformat_minor": 0,
  "metadata": {
    "colab": {
      "name": "Numpy_Assign.ipynb",
      "provenance": [],
      "collapsed_sections": []
    },
    "kernelspec": {
      "name": "python3",
      "display_name": "Python 3"
    }
  },
  "cells": [
    {
      "cell_type": "code",
      "metadata": {
        "id": "5UF93xbIpORL",
        "colab_type": "code",
        "colab": {}
      },
      "source": [
        ""
      ],
      "execution_count": 0,
      "outputs": []
    },
    {
      "cell_type": "markdown",
      "metadata": {
        "id": "3biFsb7ypvzd",
        "colab_type": "text"
      },
      "source": [
        "Write a function to find moving average in an array over a window:          Test it over [3, 5, 7, 2, 8, 10, 11, 65, 72, 81, 99, 100, 150] and window of 3. "
      ]
    },
    {
      "cell_type": "code",
      "metadata": {
        "id": "qoF8wdgspzfz",
        "colab_type": "code",
        "colab": {
          "base_uri": "https://localhost:8080/",
          "height": 204
        },
        "outputId": "acaf29b1-7b60-4385-c943-8492c3cb313f"
      },
      "source": [
        "import numpy as np\n",
        "def mov_avg(arr,window):\n",
        "  n=arr.size\n",
        "  ran=n-window+1\n",
        "  for i in range(0,ran):\n",
        "    s=np.around(np.average(arr[i:i+window]),decimals=2)\n",
        "    print(s)\n",
        "\n",
        "\n",
        "\n",
        "\n",
        "a=np.array([3, 5, 7, 2, 8, 10, 11, 65, 72, 81, 99, 100, 150])\n",
        "window=3\n",
        "mov_avg(a,window)\n",
        "\n"
      ],
      "execution_count": 6,
      "outputs": [
        {
          "output_type": "stream",
          "text": [
            "5.0\n",
            "4.67\n",
            "5.67\n",
            "6.67\n",
            "9.67\n",
            "28.67\n",
            "49.33\n",
            "72.67\n",
            "84.0\n",
            "93.33\n",
            "116.33\n"
          ],
          "name": "stdout"
        }
      ]
    },
    {
      "cell_type": "markdown",
      "metadata": {
        "id": "OS0HPVzrv7yK",
        "colab_type": "text"
      },
      "source": [
        "Write a function so that the columns of the output matrix are powers of the input  vector.  \n",
        "The order of the powers is determined by the increasing boolean argument. Specifically, when increasing is False, the i-th output column is the input vector raised element-wise to the power of N - i - 1.   "
      ]
    },
    {
      "cell_type": "code",
      "metadata": {
        "id": "lKf7Xj1kwDqg",
        "colab_type": "code",
        "colab": {
          "base_uri": "https://localhost:8080/",
          "height": 187
        },
        "outputId": "1fc5cdc9-4792-4044-87da-bdfa66c90c39"
      },
      "source": [
        "import numpy as np \n",
        "matrix=np.array([1,2,3,4])\n",
        "matrix_size=4\n",
        "def gen_matrix(matrix,n,inc):\n",
        "  if inc is False:\n",
        "    res=np.array([a**(n-i-1) for a in matrix for i in range(n)]).reshape(matrix.size,n)\n",
        "  else:\n",
        "    res=np.array([a**i for a in matrix for i in range(n)]).reshape(matrix.size,n)\n",
        "  return res\n",
        "res=gen_matrix(matrix,matrix_size,False)\n",
        "print(\"Decreasing order:\")\n",
        "print(res)\n",
        "res=gen_matrix(matrix,matrix_size,True)\n",
        "print(\"Increasing order:\")\n",
        "print(res)"
      ],
      "execution_count": 7,
      "outputs": [
        {
          "output_type": "stream",
          "text": [
            "Decreasing order:\n",
            "[[ 1  1  1  1]\n",
            " [ 8  4  2  1]\n",
            " [27  9  3  1]\n",
            " [64 16  4  1]]\n",
            "Increasing order:\n",
            "[[ 1  1  1  1]\n",
            " [ 1  2  4  8]\n",
            " [ 1  3  9 27]\n",
            " [ 1  4 16 64]]\n"
          ],
          "name": "stdout"
        }
      ]
    }
  ]
}